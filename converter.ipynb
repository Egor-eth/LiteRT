{
 "cells": [
  {
   "cell_type": "code",
   "execution_count": 73,
   "id": "2ad1df3a-13a2-42df-a9f5-30dde23846df",
   "metadata": {},
   "outputs": [],
   "source": [
    "import torch\n",
    "import numpy as np\n",
    "import io"
   ]
  },
  {
   "cell_type": "code",
   "execution_count": 74,
   "id": "1f90c19d-5bf2-494a-9db7-fa00b94b3bd5",
   "metadata": {},
   "outputs": [],
   "source": [
    "model = torch.load(\"/home/egorf/thr3ed_atom/logs/rf/lego/saved_models/model_stage_3_iter_21000.pth\")"
   ]
  },
  {
   "cell_type": "code",
   "execution_count": 75,
   "id": "535177ea-deeb-4367-81de-0610f6a732c9",
   "metadata": {},
   "outputs": [
    {
     "data": {
      "text/plain": [
       "(128, 128, 128, 1)"
      ]
     },
     "execution_count": 75,
     "metadata": {},
     "output_type": "execute_result"
    }
   ],
   "source": [
    "densities = model['thre3d_repr']['state_dict']['_densities'].cpu().numpy() * model['thre3d_repr']['config_dict'][\"expected_density_scale\"]\n",
    "densities.shape"
   ]
  },
  {
   "cell_type": "code",
   "execution_count": 76,
   "id": "e7a0a962-70fe-4feb-b7c8-c392377f0efb",
   "metadata": {},
   "outputs": [
    {
     "data": {
      "text/plain": [
       "(128, 128, 128, 27)"
      ]
     },
     "execution_count": 76,
     "metadata": {},
     "output_type": "execute_result"
    }
   ],
   "source": [
    "features = model['thre3d_repr']['state_dict']['_features'].cpu().numpy()\n",
    "features.shape"
   ]
  },
  {
   "cell_type": "code",
   "execution_count": 77,
   "id": "1f33986b-a460-4e2c-94b1-c202609f4b9f",
   "metadata": {},
   "outputs": [],
   "source": [
    "zeros = np.zeros(features.shape, dtype=features.dtype)"
   ]
  },
  {
   "cell_type": "code",
   "execution_count": 78,
   "id": "b8b82498-b48b-4ffc-b25d-69cdfbc6db8b",
   "metadata": {},
   "outputs": [
    {
     "data": {
      "text/plain": [
       "(128, 128, 128, 28)"
      ]
     },
     "execution_count": 78,
     "metadata": {},
     "output_type": "execute_result"
    }
   ],
   "source": [
    "concat = np.concatenate((densities, features), axis=3)\n",
    "concat.shape"
   ]
  },
  {
   "cell_type": "code",
   "execution_count": 79,
   "id": "da3f6202-6051-490b-8691-a4a3d1cb43d0",
   "metadata": {},
   "outputs": [
    {
     "data": {
      "text/plain": [
       "dtype('float32')"
      ]
     },
     "execution_count": 79,
     "metadata": {},
     "output_type": "execute_result"
    }
   ],
   "source": [
    "concat.dtype"
   ]
  },
  {
   "cell_type": "code",
   "execution_count": 80,
   "id": "aabe818c-4629-471b-a464-92326cb441dd",
   "metadata": {},
   "outputs": [
    {
     "data": {
      "text/plain": [
       "(128, 128, 128, 28)"
      ]
     },
     "execution_count": 80,
     "metadata": {},
     "output_type": "execute_result"
    }
   ],
   "source": [
    "concat.transpose((2, 1, 0, 3)).shape"
   ]
  },
  {
   "cell_type": "code",
   "execution_count": 81,
   "id": "d76ba5b9-d87e-41ae-8fe0-a69c3a7d784b",
   "metadata": {},
   "outputs": [],
   "source": [
    "with open('model.dat',mode='bw+') as f:\n",
    "    concat.transpose((2, 1, 0, 3)).tofile(f)"
   ]
  },
  {
   "cell_type": "code",
   "execution_count": 82,
   "id": "9433bfd6-af9c-4d3e-ac36-7443b65db9ea",
   "metadata": {},
   "outputs": [
    {
     "data": {
      "text/plain": [
       "234881024"
      ]
     },
     "execution_count": 82,
     "metadata": {},
     "output_type": "execute_result"
    }
   ],
   "source": [
    "128 * 128 * 128 * 28 * 4"
   ]
  },
  {
   "cell_type": "code",
   "execution_count": null,
   "id": "19c18655-6977-48f2-8ddb-d5941fab08c6",
   "metadata": {},
   "outputs": [],
   "source": []
  }
 ],
 "metadata": {
  "kernelspec": {
   "display_name": "Python 3 (ipykernel)",
   "language": "python",
   "name": "python3"
  },
  "language_info": {
   "codemirror_mode": {
    "name": "ipython",
    "version": 3
   },
   "file_extension": ".py",
   "mimetype": "text/x-python",
   "name": "python",
   "nbconvert_exporter": "python",
   "pygments_lexer": "ipython3",
   "version": "3.10.12"
  }
 },
 "nbformat": 4,
 "nbformat_minor": 5
}
